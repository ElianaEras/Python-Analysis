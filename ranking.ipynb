{
 "cells": [
  {
   "cell_type": "code",
   "execution_count": 2,
   "id": "c1b6b9d8",
   "metadata": {},
   "outputs": [
    {
     "name": "stdout",
     "output_type": "stream",
     "text": [
      "✅ Archivo generado: conflictos_resumen_por_persona.xlsx\n"
     ]
    }
   ],
   "source": [
    "import pandas as pd\n",
    "\n",
    "# Ruta del archivo de entrada\n",
    "archivo = \"Dataset_Form_Abril.xlsx\"  \n",
    "\n",
    "# Cargar el archivo Excel\n",
    "df = pd.read_excel(archivo)\n",
    "\n",
    "# Definir categorías con sus columnas relacionadas\n",
    "categorias_columnas = {\n",
    "    'Parentesco interno': [f'CONFLICTO PARENTESCO {i}' for i in range(1, 6)],\n",
    "    'Trabajo adicional': [f'CONFLICTO TRABAJO ADICIONAL {i}' for i in range(1, 5)],\n",
    "    'Negocio propio': [f'CONFLICTO NEGOCIO PROPIO {i}' for i in range(1, 6)],\n",
    "    'Parientes con clientes/proveedores': [f'PARIENTE GRADO DE CONSANGUINIDAD {i}' for i in range(1, 6)],\n",
    "}\n",
    "\n",
    "# Calcular los totales por categoría\n",
    "for categoria, columnas in categorias_columnas.items():\n",
    "    df[categoria] = df[columnas].notna().sum(axis=1)\n",
    "\n",
    "# Calcular total de conflictos\n",
    "df['Total de conflictos'] = df[list(categorias_columnas.keys())].sum(axis=1)\n",
    "\n",
    "# Seleccionar columnas finales\n",
    "resultado = df[[\n",
    "    'CED',\n",
    "    'NOMBRES_COLABORADORES',\n",
    "    'CARGO/TIPO',\n",
    "    'DIRECCION LFSA',\n",
    "    'Parentesco interno',\n",
    "    'Trabajo adicional',\n",
    "    'Negocio propio',\n",
    "    'Parientes con clientes/proveedores',\n",
    "    'Total de conflictos'\n",
    "]]\n",
    "\n",
    "# Renombrar columnas\n",
    "resultado = resultado.rename(columns={\n",
    "    'CED': 'Número de cédula',\n",
    "    'NOMBRES_COLABORADORES': 'Nombres del colaborador',\n",
    "    'CARGO/TIPO': 'Cargo',\n",
    "    'DIRECCION LFSA': 'Compañía',\n",
    "})\n",
    "\n",
    "# Guardar en Excel\n",
    "resultado.to_excel(\"conflictos_resumen_por_persona.xlsx\", index=False)\n",
    "\n",
    "print(\"✅ Archivo generado: conflictos_resumen_por_persona.xlsx\")\n"
   ]
  }
 ],
 "metadata": {
  "kernelspec": {
   "display_name": "nuevo_entorno",
   "language": "python",
   "name": "python3"
  },
  "language_info": {
   "codemirror_mode": {
    "name": "ipython",
    "version": 3
   },
   "file_extension": ".py",
   "mimetype": "text/x-python",
   "name": "python",
   "nbconvert_exporter": "python",
   "pygments_lexer": "ipython3",
   "version": "3.9.21"
  }
 },
 "nbformat": 4,
 "nbformat_minor": 5
}
