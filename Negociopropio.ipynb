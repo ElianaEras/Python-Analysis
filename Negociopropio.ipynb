{
 "cells": [
  {
   "cell_type": "code",
   "execution_count": 2,
   "id": "66177751",
   "metadata": {},
   "outputs": [
    {
     "name": "stdout",
     "output_type": "stream",
     "text": [
      "Archivo generado exitosamente en: C:\\Users\\eeras\\OneDrive - La Fabril S.A\\Escritorio\\Python\\Python Analysis\\resultado_conflicto_negocio.xlsx\n"
     ]
    },
    {
     "name": "stderr",
     "output_type": "stream",
     "text": [
      "C:\\Users\\eeras\\AppData\\Local\\Temp\\ipykernel_7456\\948568251.py:24: FutureWarning: DataFrame.applymap has been deprecated. Use DataFrame.map instead.\n",
      "  df_form[columnas_conflicto_negocio] = df_form[columnas_conflicto_negocio].applymap(\n"
     ]
    }
   ],
   "source": [
    "import pandas as pd\n",
    "\n",
    "# Cargar archivos\n",
    "datos_limpios_path = r\"C:\\Users\\eeras\\OneDrive - La Fabril S.A\\Escritorio\\Python\\Python Analysis\\datos_limpios.xlsx\"\n",
    "dataset_form_path = r\"C:\\Users\\eeras\\OneDrive - La Fabril S.A\\Escritorio\\Python\\Python Analysis\\Dataset_Form_Abril.xlsx\"\n",
    "\n",
    "df_limpios = pd.read_excel(datos_limpios_path)\n",
    "df_form = pd.read_excel(dataset_form_path)\n",
    "\n",
    "# Normalizar columnas clave para el cruce\n",
    "df_limpios[\"Registro\"] = df_limpios[\"Registro\"].astype(str).str.strip()\n",
    "df_form[\"CED\"] = df_form[\"CED\"].astype(str).str.strip()\n",
    "\n",
    "# Columnas que indican conflicto por negocio propio\n",
    "columnas_conflicto_negocio = [\n",
    "    \"CONFLICTO NEGOCIO PROPIO 1\",\n",
    "    \"CONFLICTO NEGOCIO PROPIO 2\",\n",
    "    \"CONFLICTO NEGOCIO PROPIO 3\",\n",
    "    \"CONFLICTO NEGOCIO PROPIO 4\",\n",
    "    \"CONFLICTO NEGOCIO PROPIO 5\"\n",
    "]\n",
    "\n",
    "# Convertir a minúscula para facilitar comparación\n",
    "df_form[columnas_conflicto_negocio] = df_form[columnas_conflicto_negocio].applymap(\n",
    "    lambda x: str(x).strip().lower() if pd.notnull(x) else \"\"\n",
    ")\n",
    "\n",
    "# Crear una columna que diga si declaró o no el conflicto\n",
    "df_form[\"Declaración de negocio propio\"] = df_form[columnas_conflicto_negocio].apply(\n",
    "    lambda row: \"Sí declaró\" if any(val in [\"si\", \"sí\", \"x\", \"s\", \"1\", \"true\"] for val in row) else \"No declaró\",\n",
    "    axis=1\n",
    ")\n",
    "\n",
    "# Seleccionar columnas relevantes del formulario\n",
    "df_form_reducido = df_form[[\"CED\", \"Declaración de negocio propio\"]]\n",
    "\n",
    "# Unir ambos dataframes por número de cédula/RUC\n",
    "df_resultado = df_limpios.merge(df_form_reducido, left_on=\"Registro\", right_on=\"CED\", how=\"left\")\n",
    "\n",
    "# Elegir las columnas finales para el resultado\n",
    "df_resultado_final = df_resultado[[\n",
    "    \"Registro\",\n",
    "    \"Nombre Empresa\",\n",
    "    \"Nombre dueña\",\n",
    "    \"Nacionalidad\",\n",
    "    \"Cargo\",\n",
    "    \"Declaración de negocio propio\"\n",
    "]]\n",
    "\n",
    "# Exportar a Excel\n",
    "output_path = r\"C:\\Users\\eeras\\OneDrive - La Fabril S.A\\Escritorio\\Python\\Python Analysis\\resultado_conflicto_negocio.xlsx\"\n",
    "df_resultado_final.to_excel(output_path, index=False)\n",
    "\n",
    "print(f\"Archivo generado exitosamente en: {output_path}\")\n"
   ]
  }
 ],
 "metadata": {
  "kernelspec": {
   "display_name": "nuevo_entorno",
   "language": "python",
   "name": "python3"
  },
  "language_info": {
   "codemirror_mode": {
    "name": "ipython",
    "version": 3
   },
   "file_extension": ".py",
   "mimetype": "text/x-python",
   "name": "python",
   "nbconvert_exporter": "python",
   "pygments_lexer": "ipython3",
   "version": "3.9.21"
  }
 },
 "nbformat": 4,
 "nbformat_minor": 5
}
