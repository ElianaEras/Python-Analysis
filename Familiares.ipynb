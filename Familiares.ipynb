{
 "cells": [
  {
   "cell_type": "code",
   "execution_count": 1,
   "id": "fd77b927",
   "metadata": {},
   "outputs": [],
   "source": [
    "import pandas as pd\n",
    "import difflib\n",
    "import networkx as nx\n",
    "import matplotlib.pyplot as plt\n",
    "from rapidfuzz import fuzz"
   ]
  },
  {
   "cell_type": "code",
   "execution_count": 2,
   "id": "d6cf3a9d",
   "metadata": {},
   "outputs": [],
   "source": [
    "ruta_archivo = \"Dataset_Form_Abril.xlsx\"\n",
    "df = pd.read_excel(ruta_archivo)"
   ]
  },
  {
   "cell_type": "code",
   "execution_count": 3,
   "id": "2313e287",
   "metadata": {},
   "outputs": [],
   "source": [
    "def normalizar(nombre):\n",
    "    if pd.isna(nombre):\n",
    "        return \"\"\n",
    "    return \" \".join(nombre.strip().upper().split())"
   ]
  },
  {
   "cell_type": "code",
   "execution_count": 4,
   "id": "cc0c68ff",
   "metadata": {},
   "outputs": [],
   "source": [
    "colabs = {}\n",
    "puestos = {}\n",
    "for _, row in df.iterrows():\n",
    "    nombre = normalizar(row[\"NOMBRES_COLABORADORES\"])\n",
    "    cedula = str(row[\"CED\"]).strip()\n",
    "    puesto = str(row[\"PUESTO\"]).strip().upper()\n",
    "    colabs[nombre] = cedula\n",
    "    puestos[nombre] = puesto"
   ]
  },
  {
   "cell_type": "code",
   "execution_count": 5,
   "id": "c97aee8f",
   "metadata": {},
   "outputs": [],
   "source": [
    "relaciones=[]"
   ]
  },
  {
   "cell_type": "code",
   "execution_count": null,
   "id": "f3a8c3bc",
   "metadata": {},
   "outputs": [],
   "source": [
    "for _, row in df.iterrows():\n",
    "    declarante = normalizar(row[\"NOMBRES_COLABORADORES\"])\n",
    "    cedula_decl = str(row[\"CED\"]).strip()\n",
    "    puesto = str(row[\"PUESTO\"]).strip().upper()\n",
    "    \n",
    "    for i in range(1, 5):\n",
    "        pariente = normalizar(row.get(f\"NOMBRES PARIENTE {i}\", \"\"))\n",
    "        grado = str(row.get(f\"GRADO DE PARENTESCO {i}\", \"\")).strip().upper()\n",
    "        \n",
    "        \n",
    "        if pariente and pariente != \"NAN\":\n",
    "            relaciones.append({\n",
    "                \"DECLARANTE\": declarante,\n",
    "                \"CED_DECLARANTE\": cedula_decl,\n",
    "                \"PUESTO_DECLARANTE\": puesto,\n",
    "                \"PARIENTE\": pariente,\n",
    "                \"GRADO\": grado\n",
    "            })"
   ]
  },
  {
   "cell_type": "code",
   "execution_count": 7,
   "id": "cbcc6c50",
   "metadata": {},
   "outputs": [],
   "source": [
    "# Buscar inconsistencias\n",
    "inconsistencias = []\n",
    "for r in relaciones:\n",
    "    a = r[\"DECLARANTE\"]\n",
    "    b = r[\"PARIENTE\"]\n",
    "    grado = r[\"GRADO\"]\n",
    "    \n",
    "    posibles = difflib.get_close_matches(b, colabs.keys(), n=1, cutoff=0.85)\n",
    "    if posibles:\n",
    "        b_real = posibles[0]\n",
    "        reciproco = any(\n",
    "            (r2[\"DECLARANTE\"] == b_real and difflib.SequenceMatcher(None, r2[\"PARIENTE\"], a).ratio() > 0.85)\n",
    "            for r2 in relaciones\n",
    "        )\n",
    "        if not reciproco:\n",
    "            # Evaluar riesgo por grado de parentesco\n",
    "            riesgo_alto = {\"PADRE/MADRE\", \"HERMANO/A\", \"HIJO/A\", \"CONYUGE\",\"ABUELO/A\"}\n",
    "            riesgo_medio = {\"SOBRINO/A\", \"TIO/A\",\"PRIMO/A\"}\n",
    "            riesgo_bajo = {\"SUEGRO/A\", \"YERNO/NUERA\",\"CUNADO/A\"}\n",
    "\n",
    "            if grado in riesgo_alto:\n",
    "                riesgo = \"ALTO\"\n",
    "            elif grado in riesgo_medio:\n",
    "                riesgo = \"MEDIO\"\n",
    "            elif grado in riesgo_bajo:\n",
    "                riesgo = \"BAJO\"\n",
    "            else:\n",
    "                riesgo = \"NO DEFINIDO\"\n",
    "\n",
    "            inconsistencias.append({\n",
    "                \"COLABORADOR A (DECLARANTE)\": a,\n",
    "                \"CÉDULA A\": r[\"CED_DECLARANTE\"],\n",
    "                \"COLABORADOR B (PARIENTE)\": b_real,\n",
    "                \"CÉDULA B\": colabs[b_real],\n",
    "                \"GRADO DE PARENTESCO\": grado,\n",
    "                \"RIESGO\": riesgo,\n",
    "                \"COMENTARIO\": \"NO RECIPROCIDAD\"\n",
    "            })"
   ]
  },
  {
   "cell_type": "code",
   "execution_count": 8,
   "id": "49717465",
   "metadata": {},
   "outputs": [
    {
     "name": "stdout",
     "output_type": "stream",
     "text": [
      "Archivo 'inconsistencias_con_riesgo.xlsx' generado.\n"
     ]
    }
   ],
   "source": [
    "df_inconsistencias = pd.DataFrame(inconsistencias)\n",
    "df_inconsistencias.to_excel(\"inconsistencias_con_riesgo.xlsx\", index=False)\n",
    "print(\"Archivo 'inconsistencias_con_riesgo.xlsx' generado.\")\n"
   ]
  },
  {
   "cell_type": "markdown",
   "id": "3d9adab3",
   "metadata": {},
   "source": [
    "# GRUPOS DE FAMILIAS"
   ]
  },
  {
   "cell_type": "code",
   "execution_count": 11,
   "id": "03a3d606",
   "metadata": {},
   "outputs": [],
   "source": [
    "nombres_unicos = set()\n",
    "\n",
    "for _, row in df.iterrows():\n",
    "    nombres_unicos.add(normalizar(row[\"NOMBRES_COLABORADORES\"]))\n",
    "    for i in range(1, 5):\n",
    "        nombres_unicos.add(normalizar(row.get(f\"NOMBRES PARIENTE {i}\", \"\")))\n",
    "        for i in range(1,9):\n",
    "            nombres_unicos.add(normalizar(row.get(f\"NOMBRES PARIENTE ADICIONAL {i}\",\"\")))\n",
    "\n",
    "nombres_unicos = list(filter(None, nombres_unicos))\n",
    "\n",
    "umbral_similitud = 80\n",
    "grupos_similares = []\n",
    "\n",
    "while nombres_unicos:\n",
    "    base = nombres_unicos.pop(0)\n",
    "    grupo = [base]\n",
    "    similares = []\n",
    "\n",
    "    for otro in nombres_unicos:\n",
    "        if fuzz.token_sort_ratio(base, otro) >= umbral_similitud:\n",
    "            grupo.append(otro)\n",
    "            similares.append(otro)\n",
    "\n",
    "    for s in similares:\n",
    "        nombres_unicos.remove(s)\n",
    "\n",
    "    grupos_similares.append(grupo)\n",
    "\n",
    "# Crear un mapa de reemplazo (usar el nombre más corto del grupo como estándar)\n",
    "mapa_normalizado = {}\n",
    "for grupo in grupos_similares:\n",
    "    estandar = min(grupo, key=len)\n",
    "    for nombre in grupo:\n",
    "        mapa_normalizado[nombre] = estandar\n",
    "\n",
    "G = nx.Graph()\n",
    "nombres_cedulas = {}\n",
    "\n",
    "for _, row in df.iterrows():\n",
    "    declarante = normalizar(row[\"NOMBRES_COLABORADORES\"])\n",
    "    declarante = mapa_normalizado.get(declarante, declarante)\n",
    "    ced_declarante = str(row[\"CED\"]).strip()\n",
    "    nombres_cedulas[declarante] = ced_declarante\n",
    "\n",
    "    for i in range(1, 5):\n",
    "        pariente = normalizar(row.get(f\"NOMBRES PARIENTE {i}\", \"\"))\n",
    "        pariente = mapa_normalizado.get(pariente, pariente)\n",
    "        if pariente and pariente != \"NAN\":\n",
    "            G.add_edge(declarante, pariente)\n",
    "\n",
    "# Familias\n",
    "familias = list(nx.connected_components(G))\n",
    "\n",
    "datos_familias = []\n",
    "for i, familia in enumerate(familias, start=1):\n",
    "    identificador = f\"FAM{i:03d}\"\n",
    "    nombres = list(familia)\n",
    "    cedulas = [nombres_cedulas.get(n, \"SIN_CED\") for n in nombres]\n",
    "    num_integrantes = len(nombres)\n",
    "\n",
    "    if num_integrantes <= 2:\n",
    "        riesgo = \"BAJO\"\n",
    "    elif 3 <= num_integrantes <= 4:\n",
    "        riesgo = \"MEDIO\"\n",
    "    else:\n",
    "        riesgo = \"ALTO\"\n",
    "\n",
    "    datos_familias.append({\n",
    "        \"Identificador de familiar\": identificador,\n",
    "        \"SEC\": \"-\".join(cedulas),\n",
    "        \"Familia\": \", \".join(nombres),\n",
    "        \"Número de integrantes\": num_integrantes,\n",
    "        \"Riesgo\": riesgo\n",
    "    })\n"
   ]
  },
  {
   "cell_type": "code",
   "execution_count": 12,
   "id": "d8ee2150",
   "metadata": {},
   "outputs": [
    {
     "name": "stdout",
     "output_type": "stream",
     "text": [
      "Archivo 'familias_identificadas_filtradas.xlsx' generado correctamente.\n"
     ]
    }
   ],
   "source": [
    "# Guardar\n",
    "df_familias = pd.DataFrame(datos_familias)\n",
    "df_familias.to_excel(\"familias_identificadas_filtradas.xlsx\", index=False)\n",
    "print(\"Archivo 'familias_identificadas_filtradas.xlsx' generado correctamente.\")"
   ]
  }
 ],
 "metadata": {
  "kernelspec": {
   "display_name": "Python 3",
   "language": "python",
   "name": "python3"
  },
  "language_info": {
   "codemirror_mode": {
    "name": "ipython",
    "version": 3
   },
   "file_extension": ".py",
   "mimetype": "text/x-python",
   "name": "python",
   "nbconvert_exporter": "python",
   "pygments_lexer": "ipython3",
   "version": "3.9.21"
  }
 },
 "nbformat": 4,
 "nbformat_minor": 5
}
